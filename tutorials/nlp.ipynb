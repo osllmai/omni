{
 "cells": [
  {
   "cell_type": "markdown",
   "metadata": {},
   "source": [
    "### NLPExplainer for sentiment analysis"
   ]
  },
  {
   "cell_type": "markdown",
   "metadata": {},
   "source": [
    "The class `NLPExplainer` is designed for NLP tasks, acting as a factory of the supported NLP explainers such as integrated-gradient and LIME. `NLPExplainer` provides a unified easy-to-use interface for all the supported explainers. Because the supported NLP explainers in the current version are limited, one can either use `NLPExplainer` or a specific explainer in the package `omnixai.explainers.nlp` to generate explanations."
   ]
  },
  {
   "cell_type": "code",
   "execution_count": 1,
   "metadata": {},
   "outputs": [],
   "source": [
    "import sys\n",
    "import os\n",
    "\n",
    "module_path = os.path.abspath('E:/Codes/OmniXAI/')\n",
    "if module_path not in sys.path:\n",
    "    sys.path.append(module_path)\n",
    "\n",
    "# For Jupyter notebooks or interactive environments where __file__ is not defined\n",
    "try:\n",
    "    # Try to use __file__ if available\n",
    "    directory = os.path.dirname(os.path.abspath(__file__))\n",
    "except NameError:\n",
    "    # If __file__ is not defined (e.g., in Jupyter), use the current working directory\n",
    "    directory = os.path.abspath('')\n",
    "    \n",
    "sys.path.append(os.path.dirname(directory))"
   ]
  },
  {
   "cell_type": "code",
   "execution_count": 2,
   "metadata": {},
   "outputs": [],
   "source": [
    "# This default renderer is used for sphinx docs only. Please delete this cell in IPython.\n",
    "import plotly.io as pio\n",
    "pio.renderers.default = \"png\""
   ]
  },
  {
   "cell_type": "code",
   "execution_count": 3,
   "metadata": {},
   "outputs": [],
   "source": [
    "import numpy as np\n",
    "import transformers\n",
    "from omnixai.data.text import Text\n",
    "from omnixai.explainers.nlp import NLPExplainer\n",
    "from omnixai.visualization.dashboard import Dashboard"
   ]
  },
  {
   "cell_type": "markdown",
   "metadata": {},
   "source": [
    "In this example, we consider a sentiment analysis task. The test input is an instance of `Text`."
   ]
  },
  {
   "cell_type": "code",
   "execution_count": 4,
   "metadata": {},
   "outputs": [],
   "source": [
    "x = Text([\n",
    "    \"What a great movie!\",\n",
    "    \"The Interview was neither that funny nor that witty. \"\n",
    "    \"Even if there are words like funny and witty, the overall structure is a negative type.\"\n",
    "])"
   ]
  },
  {
   "cell_type": "markdown",
   "metadata": {},
   "source": [
    "The model considered here is a transformer model. Similar to `TabularExplainer`, to initialize `NLPExplainer`, we need to set the following parameters:\n",
    "\n",
    "  - `explainers`: The names of the explainers to apply, e.g., [\"shap\", \"lime\"].\n",
    "  - `model`: The ML model to explain, e.g., a scikit-learn model, a tensorflow model, a pytorch model or a black-box prediction function.\n",
    "  - `preprocess`: The preprocessing function converting the raw data (a `Text` instance) into the inputs of model.\n",
    "  - `postprocess`: The postprocessing function transforming the outputs of model to a user-specific form, e.g., the predicted probability for each class.\n",
    "  - `mode`: The task type, e.g., \"classification\", \"regression\" or \"qa\".\n",
    "  \n",
    "The preprocessing function takes a `Text` instance as its input and outputs the processed features that the ML model consumes. In this example, the `Text` object is converted into a batch of strings.\n",
    "\n",
    "The postprocessing function converts the outputs into class probabilities."
   ]
  },
  {
   "cell_type": "code",
   "execution_count": 5,
   "metadata": {},
   "outputs": [
    {
     "name": "stderr",
     "output_type": "stream",
     "text": [
      "WARNING\ttensorflow:module_wrapper.py:_tfmw_add_deprecation_warning()- From e:\\Codes\\OmniXAI\\venv\\Lib\\site-packages\\tf_keras\\src\\losses.py:2976: The name tf.losses.sparse_softmax_cross_entropy is deprecated. Please use tf.compat.v1.losses.sparse_softmax_cross_entropy instead.\n",
      "\n",
      "Device set to use cpu\n",
      "`return_all_scores` is now deprecated,  if want a similar functionality use `top_k=None` instead of `return_all_scores=True` or `top_k=1` instead of `return_all_scores=False`.\n"
     ]
    },
    {
     "ename": "ModuleNotFoundError",
     "evalue": "Explainer polyjuice -- No module named 'polyjuice_nlp'",
     "output_type": "error",
     "traceback": [
      "\u001b[31m---------------------------------------------------------------------------\u001b[39m",
      "\u001b[31mModuleNotFoundError\u001b[39m                       Traceback (most recent call last)",
      "\u001b[36mFile \u001b[39m\u001b[32mE:\\Codes\\OmniXAI\\omnixai\\explainers\\base.py:214\u001b[39m, in \u001b[36mAutoExplainerBase._build_explainers\u001b[39m\u001b[34m(self, params)\u001b[39m\n\u001b[32m    213\u001b[39m \u001b[38;5;28;01mif\u001b[39;00m \u001b[33m\"\u001b[39m\u001b[33mpredict_function\u001b[39m\u001b[33m\"\u001b[39m \u001b[38;5;129;01min\u001b[39;00m _signature:\n\u001b[32m--> \u001b[39m\u001b[32m214\u001b[39m     explainer = \u001b[43m_class\u001b[49m\u001b[43m(\u001b[49m\n\u001b[32m    215\u001b[39m \u001b[43m        \u001b[49m\u001b[43mpredict_function\u001b[49m\u001b[43m=\u001b[49m\u001b[38;5;28;43mself\u001b[39;49m\u001b[43m.\u001b[49m\u001b[43mpredict_function\u001b[49m\u001b[43m,\u001b[49m\n\u001b[32m    216\u001b[39m \u001b[43m        \u001b[49m\u001b[43mmode\u001b[49m\u001b[43m=\u001b[49m\u001b[38;5;28;43mself\u001b[39;49m\u001b[43m.\u001b[49m\u001b[43mmode\u001b[49m\u001b[43m,\u001b[49m\n\u001b[32m    217\u001b[39m \u001b[43m        \u001b[49m\u001b[43mtraining_data\u001b[49m\u001b[43m=\u001b[49m\u001b[38;5;28;43mself\u001b[39;49m\u001b[43m.\u001b[49m\u001b[43mdata\u001b[49m\u001b[43m,\u001b[49m\n\u001b[32m    218\u001b[39m \u001b[43m        \u001b[49m\u001b[43m*\u001b[49m\u001b[43m*\u001b[49m\u001b[43m_param\u001b[49m\n\u001b[32m    219\u001b[39m \u001b[43m    \u001b[49m\u001b[43m)\u001b[49m\n\u001b[32m    220\u001b[39m \u001b[38;5;28;01melif\u001b[39;00m \u001b[33m\"\u001b[39m\u001b[33mmodel\u001b[39m\u001b[33m\"\u001b[39m \u001b[38;5;129;01min\u001b[39;00m _signature:\n",
      "\u001b[36mFile \u001b[39m\u001b[32mE:\\Codes\\OmniXAI\\omnixai\\explainers\\nlp\\counterfactual\\polyjuice.py:49\u001b[39m, in \u001b[36mPolyjuice.__init__\u001b[39m\u001b[34m(self, predict_function, mode, **kwargs)\u001b[39m\n\u001b[32m     47\u001b[39m \u001b[38;5;28mself\u001b[39m.predict_function = predict_function\n\u001b[32m---> \u001b[39m\u001b[32m49\u001b[39m \u001b[38;5;28;01mfrom\u001b[39;00m\u001b[38;5;250m \u001b[39m\u001b[34;01mpolyjuice_nlp\u001b[39;00m\u001b[38;5;250m \u001b[39m\u001b[38;5;28;01mimport\u001b[39;00m Polyjuice\n\u001b[32m     51\u001b[39m \u001b[38;5;28mself\u001b[39m.explainer = Polyjuice(\n\u001b[32m     52\u001b[39m     model_path=kwargs.get(\u001b[33m\"\u001b[39m\u001b[33mmodel_path\u001b[39m\u001b[33m\"\u001b[39m, \u001b[33m\"\u001b[39m\u001b[33muw-hai/polyjuice\u001b[39m\u001b[33m\"\u001b[39m),\n\u001b[32m     53\u001b[39m     is_cuda=kwargs.get(\u001b[33m\"\u001b[39m\u001b[33mcuda\u001b[39m\u001b[33m\"\u001b[39m, \u001b[38;5;28;01mTrue\u001b[39;00m),\n\u001b[32m     54\u001b[39m )\n",
      "\u001b[31mModuleNotFoundError\u001b[39m: No module named 'polyjuice_nlp'",
      "\nDuring handling of the above exception, another exception occurred:\n",
      "\u001b[31mModuleNotFoundError\u001b[39m                       Traceback (most recent call last)",
      "\u001b[36mCell\u001b[39m\u001b[36m \u001b[39m\u001b[32mIn[5]\u001b[39m\u001b[32m, line 13\u001b[39m\n\u001b[32m     10\u001b[39m postprocess = \u001b[38;5;28;01mlambda\u001b[39;00m outputs: np.array([[s[\u001b[33m\"\u001b[39m\u001b[33mscore\u001b[39m\u001b[33m\"\u001b[39m] \u001b[38;5;28;01mfor\u001b[39;00m s \u001b[38;5;129;01min\u001b[39;00m ss] \u001b[38;5;28;01mfor\u001b[39;00m ss \u001b[38;5;129;01min\u001b[39;00m outputs])\n\u001b[32m     12\u001b[39m \u001b[38;5;66;03m# Initialize a NLPExplainer\u001b[39;00m\n\u001b[32m---> \u001b[39m\u001b[32m13\u001b[39m explainer = \u001b[43mNLPExplainer\u001b[49m\u001b[43m(\u001b[49m\n\u001b[32m     14\u001b[39m \u001b[43m    \u001b[49m\u001b[43mexplainers\u001b[49m\u001b[43m=\u001b[49m\u001b[43m[\u001b[49m\u001b[33;43m\"\u001b[39;49m\u001b[33;43mshap\u001b[39;49m\u001b[33;43m\"\u001b[39;49m\u001b[43m,\u001b[49m\u001b[43m \u001b[49m\u001b[33;43m\"\u001b[39;49m\u001b[33;43mlime\u001b[39;49m\u001b[33;43m\"\u001b[39;49m\u001b[43m,\u001b[49m\u001b[43m \u001b[49m\u001b[33;43m\"\u001b[39;49m\u001b[33;43mpolyjuice\u001b[39;49m\u001b[33;43m\"\u001b[39;49m\u001b[43m]\u001b[49m\u001b[43m,\u001b[49m\n\u001b[32m     15\u001b[39m \u001b[43m    \u001b[49m\u001b[43mmode\u001b[49m\u001b[43m=\u001b[49m\u001b[33;43m\"\u001b[39;49m\u001b[33;43mclassification\u001b[39;49m\u001b[33;43m\"\u001b[39;49m\u001b[43m,\u001b[49m\n\u001b[32m     16\u001b[39m \u001b[43m    \u001b[49m\u001b[43mmodel\u001b[49m\u001b[43m=\u001b[49m\u001b[43mmodel\u001b[49m\u001b[43m,\u001b[49m\n\u001b[32m     17\u001b[39m \u001b[43m    \u001b[49m\u001b[43mpreprocess\u001b[49m\u001b[43m=\u001b[49m\u001b[43mpreprocess\u001b[49m\u001b[43m,\u001b[49m\n\u001b[32m     18\u001b[39m \u001b[43m    \u001b[49m\u001b[43mpostprocess\u001b[49m\u001b[43m=\u001b[49m\u001b[43mpostprocess\u001b[49m\n\u001b[32m     19\u001b[39m \u001b[43m)\u001b[49m\n",
      "\u001b[36mFile \u001b[39m\u001b[32mE:\\Codes\\OmniXAI\\omnixai\\explainers\\nlp\\auto.py:58\u001b[39m, in \u001b[36mNLPExplainer.__init__\u001b[39m\u001b[34m(self, explainers, mode, model, data, preprocess, postprocess, params)\u001b[39m\n\u001b[32m     33\u001b[39m \u001b[38;5;28;01mdef\u001b[39;00m\u001b[38;5;250m \u001b[39m\u001b[34m__init__\u001b[39m(\n\u001b[32m     34\u001b[39m     \u001b[38;5;28mself\u001b[39m,\n\u001b[32m     35\u001b[39m     explainers: Collection,\n\u001b[32m   (...)\u001b[39m\u001b[32m     41\u001b[39m     params: Dict = \u001b[38;5;28;01mNone\u001b[39;00m,\n\u001b[32m     42\u001b[39m ):\n\u001b[32m     43\u001b[39m \u001b[38;5;250m    \u001b[39m\u001b[33;03m\"\"\"\u001b[39;00m\n\u001b[32m     44\u001b[39m \u001b[33;03m    :param explainers: The names or alias of the explainers to use.\u001b[39;00m\n\u001b[32m     45\u001b[39m \u001b[33;03m    :param mode: The task type, e.g. `classification`, `regression` or `qa`.\u001b[39;00m\n\u001b[32m   (...)\u001b[39m\u001b[32m     56\u001b[39m \u001b[33;03m        e.g., `params[\"lime\"] = {\"param_1\": param_1, ...}`.\u001b[39;00m\n\u001b[32m     57\u001b[39m \u001b[33;03m    \"\"\"\u001b[39;00m\n\u001b[32m---> \u001b[39m\u001b[32m58\u001b[39m     \u001b[38;5;28;43msuper\u001b[39;49m\u001b[43m(\u001b[49m\u001b[43m)\u001b[49m\u001b[43m.\u001b[49m\u001b[34;43m__init__\u001b[39;49m\u001b[43m(\u001b[49m\n\u001b[32m     59\u001b[39m \u001b[43m        \u001b[49m\u001b[43mexplainers\u001b[49m\u001b[43m=\u001b[49m\u001b[43mexplainers\u001b[49m\u001b[43m,\u001b[49m\n\u001b[32m     60\u001b[39m \u001b[43m        \u001b[49m\u001b[43mmode\u001b[49m\u001b[43m=\u001b[49m\u001b[43mmode\u001b[49m\u001b[43m,\u001b[49m\n\u001b[32m     61\u001b[39m \u001b[43m        \u001b[49m\u001b[43mdata\u001b[49m\u001b[43m=\u001b[49m\u001b[43mdata\u001b[49m\u001b[43m,\u001b[49m\n\u001b[32m     62\u001b[39m \u001b[43m        \u001b[49m\u001b[43mmodel\u001b[49m\u001b[43m=\u001b[49m\u001b[43mmodel\u001b[49m\u001b[43m,\u001b[49m\n\u001b[32m     63\u001b[39m \u001b[43m        \u001b[49m\u001b[43mpreprocess\u001b[49m\u001b[43m=\u001b[49m\u001b[43mpreprocess\u001b[49m\u001b[43m,\u001b[49m\n\u001b[32m     64\u001b[39m \u001b[43m        \u001b[49m\u001b[43mpostprocess\u001b[49m\u001b[43m=\u001b[49m\u001b[43mpostprocess\u001b[49m\u001b[43m,\u001b[49m\n\u001b[32m     65\u001b[39m \u001b[43m        \u001b[49m\u001b[43mparams\u001b[49m\u001b[43m=\u001b[49m\u001b[43mparams\u001b[49m\u001b[43m,\u001b[49m\n\u001b[32m     66\u001b[39m \u001b[43m    \u001b[49m\u001b[43m)\u001b[49m\n",
      "\u001b[36mFile \u001b[39m\u001b[32mE:\\Codes\\OmniXAI\\omnixai\\explainers\\base.py:165\u001b[39m, in \u001b[36mAutoExplainerBase.__init__\u001b[39m\u001b[34m(self, explainers, mode, data, model, preprocess, postprocess, params)\u001b[39m\n\u001b[32m    163\u001b[39m \u001b[38;5;28mself\u001b[39m.params = params\n\u001b[32m    164\u001b[39m \u001b[38;5;28mself\u001b[39m.predict_function = \u001b[38;5;28;01mNone\u001b[39;00m\n\u001b[32m--> \u001b[39m\u001b[32m165\u001b[39m \u001b[38;5;28mself\u001b[39m.explainers = \u001b[38;5;28;43mself\u001b[39;49m\u001b[43m.\u001b[49m\u001b[43m_build_explainers\u001b[49m\u001b[43m(\u001b[49m\u001b[43mparams\u001b[49m\u001b[43m)\u001b[49m\n\u001b[32m    166\u001b[39m \u001b[38;5;28mself\u001b[39m.data_info = {}\n",
      "\u001b[36mFile \u001b[39m\u001b[32mE:\\Codes\\OmniXAI\\omnixai\\explainers\\base.py:237\u001b[39m, in \u001b[36mAutoExplainerBase._build_explainers\u001b[39m\u001b[34m(self, params)\u001b[39m\n\u001b[32m    235\u001b[39m         explainers[name] = explainer\n\u001b[32m    236\u001b[39m     \u001b[38;5;28;01mexcept\u001b[39;00m \u001b[38;5;167;01mException\u001b[39;00m \u001b[38;5;28;01mas\u001b[39;00m e:\n\u001b[32m--> \u001b[39m\u001b[32m237\u001b[39m         \u001b[38;5;28;01mraise\u001b[39;00m \u001b[38;5;28mtype\u001b[39m(e)(\u001b[33mf\u001b[39m\u001b[33m\"\u001b[39m\u001b[33mExplainer \u001b[39m\u001b[38;5;132;01m{\u001b[39;00mname\u001b[38;5;132;01m}\u001b[39;00m\u001b[33m -- \u001b[39m\u001b[38;5;132;01m{\u001b[39;00m\u001b[38;5;28mstr\u001b[39m(e)\u001b[38;5;132;01m}\u001b[39;00m\u001b[33m\"\u001b[39m)\n\u001b[32m    238\u001b[39m \u001b[38;5;28;01mreturn\u001b[39;00m explainers\n",
      "\u001b[31mModuleNotFoundError\u001b[39m: Explainer polyjuice -- No module named 'polyjuice_nlp'"
     ]
    }
   ],
   "source": [
    "# The preprocessing function\n",
    "preprocess = lambda x: x.values\n",
    "# A transformer model for sentiment analysis\n",
    "model = transformers.pipeline(\n",
    "    'sentiment-analysis',\n",
    "    model='distilbert-base-uncased-finetuned-sst-2-english',\n",
    "    return_all_scores=True\n",
    ")\n",
    "# The postprocessing function\n",
    "postprocess = lambda outputs: np.array([[s[\"score\"] for s in ss] for ss in outputs])\n",
    "\n",
    "# Initialize a NLPExplainer\n",
    "explainer = NLPExplainer(\n",
    "    explainers=[\"shap\", \"lime\", \"polyjuice\"],\n",
    "    mode=\"classification\",\n",
    "    model=model,\n",
    "    preprocess=preprocess,\n",
    "    postprocess=postprocess\n",
    ")"
   ]
  },
  {
   "cell_type": "markdown",
   "metadata": {},
   "source": [
    "There is no \"global explanation\" for `NLPExplainer` currently. One can simply call explainer.explain to generate local explanations for NLP tasks."
   ]
  },
  {
   "cell_type": "code",
   "execution_count": 5,
   "metadata": {},
   "outputs": [
    {
     "data": {
      "application/vnd.jupyter.widget-view+json": {
       "model_id": "",
       "version_major": 2,
       "version_minor": 0
      },
      "text/plain": [
       "  0%|          | 0/248 [00:00<?, ?it/s]"
      ]
     },
     "metadata": {},
     "output_type": "display_data"
    },
    {
     "name": "stderr",
     "output_type": "stream",
     "text": [
      "Partition explainer: 3it [00:12, 12.70s/it]               \n",
      "INFO:polyjuice.polyjuice_wrapper:Setup Polyjuice.\n",
      "INFO:polyjuice.polyjuice_wrapper:Setup SpaCy processor.\n",
      "INFO:polyjuice.polyjuice_wrapper:Setup perplexity scorer.\n",
      "Asking to truncate to max_length but no maximum length is provided and the model has no predefined maximum length. Default to no truncation.\n"
     ]
    },
    {
     "name": "stdout",
     "output_type": "stream",
     "text": [
      "SHAP results:\n"
     ]
    },
    {
     "data": {
      "text/html": [
       "<div>Instance 0: Class POSITIVE</div>\n",
       "<div><span style='color:rgb(127,128,128)'> </span><span style='color:rgb(108,167,108)'>What </span><span style='color:rgb(106,172,106)'>a </span><span style='color:rgb(101,181,101)'>great </span><span style='color:rgb(106,172,106)'>movie </span><span style='color:rgb(65,254,65)'>! </span><span style='color:rgb(127,128,128)'></span></div><br>\n",
       "<div>Instance 1: Class NEGATIVE</div>\n",
       "<div><span style='color:rgb(127,128,128)'> </span><span style='color:rgb(119,145,119)'>The </span><span style='color:rgb(120,144,120)'>Interview </span><span style='color:rgb(118,147,118)'>was </span><span style='color:rgb(74,236,74)'>neither </span><span style='color:rgb(124,135,124)'>that </span><span style='color:rgb(138,123,123)'>funny </span><span style='color:rgb(65,254,65)'>nor </span><span style='color:rgb(131,126,126)'>that </span><span style='color:rgb(229,77,77)'>witty </span><span style='color:rgb(128,128,128)'>. </span><span style='color:rgb(119,146,119)'>Even </span><span style='color:rgb(104,175,104)'>if </span><span style='color:rgb(125,134,125)'>there </span><span style='color:rgb(125,134,125)'>are </span><span style='color:rgb(130,127,127)'>words </span><span style='color:rgb(132,126,126)'>like </span><span style='color:rgb(131,126,126)'>funny </span><span style='color:rgb(122,140,122)'>and </span><span style='color:rgb(211,86,86)'>witty </span><span style='color:rgb(121,142,121)'>, </span><span style='color:rgb(122,140,122)'>the </span><span style='color:rgb(120,143,120)'>overall </span><span style='color:rgb(125,134,125)'>structure </span><span style='color:rgb(117,150,117)'>is </span><span style='color:rgb(128,127,128)'>a </span><span style='color:rgb(86,211,86)'>negative </span><span style='color:rgb(125,133,125)'>type </span><span style='color:rgb(122,140,122)'>. </span><span style='color:rgb(127,128,128)'></span></div><br>"
      ],
      "text/plain": [
       "<IPython.core.display.HTML object>"
      ]
     },
     "metadata": {},
     "output_type": "display_data"
    },
    {
     "name": "stdout",
     "output_type": "stream",
     "text": [
      "LIME results:\n"
     ]
    },
    {
     "data": {
      "text/html": [
       "<div>Instance 0: Class 1</div>\n",
       "<div><span style='color:rgb(65,254,65)'>great </span><span style='color:rgb(69,246,69)'>a </span><span style='color:rgb(88,207,88)'>movie </span><span style='color:rgb(124,136,124)'>What</span></div><br>\n",
       "<div>Instance 1: Class 0</div>\n",
       "<div><span style='color:rgb(65,254,65)'>neither </span><span style='color:rgb(72,240,72)'>nor </span><span style='color:rgb(101,181,101)'>negative </span><span style='color:rgb(164,110,110)'>witty </span><span style='color:rgb(116,151,116)'>is </span><span style='color:rgb(120,143,120)'>if </span><span style='color:rgb(142,121,121)'>funny </span><span style='color:rgb(122,140,122)'>a </span><span style='color:rgb(122,139,122)'>the </span><span style='color:rgb(136,124,124)'>type</span></div><br>"
      ],
      "text/plain": [
       "<IPython.core.display.HTML object>"
      ]
     },
     "metadata": {},
     "output_type": "display_data"
    },
    {
     "name": "stdout",
     "output_type": "stream",
     "text": [
      "Counterfactual results:\n"
     ]
    },
    {
     "data": {
      "image/png": "[encoded data removed]"
     },
     "metadata": {},
     "output_type": "display_data"
    }
   ],
   "source": [
    "# Generates explanations\n",
    "local_explanations = explainer.explain(x)\n",
    "\n",
    "print(\"SHAP results:\")\n",
    "local_explanations[\"shap\"].ipython_plot()\n",
    "print(\"LIME results:\")\n",
    "local_explanations[\"lime\"].ipython_plot()\n",
    "print(\"Counterfactual results:\")\n",
    "local_explanations[\"polyjuice\"].ipython_plot()"
   ]
  },
  {
   "cell_type": "markdown",
   "metadata": {},
   "source": [
    "Given the generated explanations, we can launch a dashboard (a Dash app) for visualization by setting the test instances and the generated local explanations."
   ]
  },
  {
   "cell_type": "code",
   "execution_count": 6,
   "metadata": {},
   "outputs": [
    {
     "name": "stdout",
     "output_type": "stream",
     "text": [
      "Dash is running on http://127.0.0.1:8050/\n",
      "\n"
     ]
    },
    {
     "name": "stderr",
     "output_type": "stream",
     "text": [
      "INFO:omnixai.visualization.dashboard:Dash is running on http://127.0.0.1:8050/\n",
      "\n"
     ]
    },
    {
     "name": "stdout",
     "output_type": "stream",
     "text": [
      " * Serving Flask app \"omnixai.visualization.dashboard\" (lazy loading)\n",
      " * Environment: production\n",
      "\u001b[31m   WARNING: This is a development server. Do not use it in a production deployment.\u001b[0m\n",
      "\u001b[2m   Use a production WSGI server instead.\u001b[0m\n",
      " * Debug mode: off\n"
     ]
    },
    {
     "name": "stderr",
     "output_type": "stream",
     "text": [
      "INFO:werkzeug: * Running on http://127.0.0.1:8050/ (Press CTRL+C to quit)\n"
     ]
    }
   ],
   "source": [
    "# Launch a dashboard for visualization\n",
    "dashboard = Dashboard(\n",
    "    instances=x,\n",
    "    local_explanations=local_explanations\n",
    ")\n",
    "dashboard.show()"
   ]
  }
 ],
 "metadata": {
  "kernelspec": {
   "display_name": "venv",
   "language": "python",
   "name": "python3"
  },
  "language_info": {
   "codemirror_mode": {
    "name": "ipython",
    "version": 3
   },
   "file_extension": ".py",
   "mimetype": "text/x-python",
   "name": "python",
   "nbconvert_exporter": "python",
   "pygments_lexer": "ipython3",
   "version": "3.11.9"
  }
 },
 "nbformat": 4,
 "nbformat_minor": 2
}
