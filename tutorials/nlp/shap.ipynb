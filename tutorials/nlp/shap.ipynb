{
 "cells": [
  {
   "cell_type": "markdown",
   "metadata": {},
   "source": [
    "### SHAP for sentiment analysis"
   ]
  },
  {
   "cell_type": "markdown",
   "metadata": {},
   "source": [
    "An example of SHAP on sentiment analysis. The SHAP explainer for NLP tasks only supports `TextClassificationPipeline` in the `transformer` library. If using this explainer, please cite the original work: https://github.com/slundberg/shap."
   ]
  },
  {
   "cell_type": "code",
   "execution_count": 1,
   "metadata": {},
   "outputs": [],
   "source": [
    "import transformers\n",
    "from omnixai.data.text import Text\n",
    "from omnixai.explainers.nlp import ShapText"
   ]
  },
  {
   "cell_type": "code",
   "execution_count": 2,
   "metadata": {},
   "outputs": [],
   "source": [
    "# A transformer model for sentiment analysis\n",
    "model = transformers.pipeline(\n",
    "    'sentiment-analysis',\n",
    "    model='distilbert-base-uncased-finetuned-sst-2-english',\n",
    "    return_all_scores=True\n",
    ")"
   ]
  },
  {
   "cell_type": "code",
   "execution_count": 3,
   "metadata": {},
   "outputs": [
    {
     "data": {
      "application/vnd.jupyter.widget-view+json": {
       "model_id": "",
       "version_major": 2,
       "version_minor": 0
      },
      "text/plain": [
       "  0%|          | 0/156 [00:00<?, ?it/s]"
      ]
     },
     "metadata": {},
     "output_type": "display_data"
    },
    {
     "name": "stderr",
     "output_type": "stream",
     "text": [
      "Partition explainer: 7it [00:17,  3.51s/it]                       \n"
     ]
    },
    {
     "data": {
      "text/html": [
       "<div>Instance 0: Class POSITIVE</div>\n",
       "<div><span style='color:rgb(127,128,128)'> </span><span style='color:rgb(135,124,124)'>What </span><span style='color:rgb(110,163,110)'>a </span><span style='color:rgb(65,254,65)'>great </span><span style='color:rgb(125,133,125)'>movie </span><span style='color:rgb(130,127,127)'>! </span><span style='color:rgb(128,127,128)'>if </span><span style='color:rgb(111,161,111)'>you </span><span style='color:rgb(127,130,127)'>have </span><span style='color:rgb(186,99,99)'>no </span><span style='color:rgb(128,128,128)'>taste </span><span style='color:rgb(135,124,124)'>. </span><span style='color:rgb(127,128,128)'></span></div><br>\n",
       "<div>Instance 1: Class POSITIVE</div>\n",
       "<div><span style='color:rgb(127,128,128)'> </span><span style='color:rgb(128,128,128)'>it </span><span style='color:rgb(128,127,128)'>was </span><span style='color:rgb(65,254,65)'>a </span><span style='color:rgb(103,178,103)'>fantastic </span><span style='color:rgb(105,173,105)'>performance </span><span style='color:rgb(112,159,112)'>! </span><span style='color:rgb(127,128,128)'></span></div><br>\n",
       "<div>Instance 2: Class POSITIVE</div>\n",
       "<div><span style='color:rgb(127,128,128)'> </span><span style='color:rgb(65,254,65)'>best </span><span style='color:rgb(91,201,91)'>film </span><span style='color:rgb(102,180,102)'>ever </span><span style='color:rgb(127,128,128)'></span></div><br>\n",
       "<div>Instance 3: Class POSITIVE</div>\n",
       "<div><span style='color:rgb(127,128,128)'> </span><span style='color:rgb(188,98,98)'>such </span><span style='color:rgb(95,194,95)'>a </span><span style='color:rgb(84,215,84)'>great </span><span style='color:rgb(83,218,83)'>show </span><span style='color:rgb(65,254,65)'>! </span><span style='color:rgb(127,128,128)'></span></div><br>\n",
       "<div>Instance 4: Class NEGATIVE</div>\n",
       "<div><span style='color:rgb(127,128,128)'> </span><span style='color:rgb(138,123,123)'>it </span><span style='color:rgb(127,128,128)'>was </span><span style='color:rgb(179,102,102)'>a </span><span style='color:rgb(65,254,65)'>horrible </span><span style='color:rgb(128,128,128)'>movie </span><span style='color:rgb(127,128,128)'></span></div><br>\n",
       "<div>Instance 5: Class POSITIVE</div>\n",
       "<div><span style='color:rgb(127,128,128)'> </span><span style='color:rgb(123,137,123)'>i </span><span style='color:rgb(114,155,114)'>' </span><span style='color:rgb(127,129,127)'>ve </span><span style='color:rgb(65,254,65)'>never </span><span style='color:rgb(103,178,103)'>watched </span><span style='color:rgb(118,148,118)'>something </span><span style='color:rgb(136,124,124)'>as </span><span style='color:rgb(159,112,112)'>bad </span><span style='color:rgb(127,128,128)'></span></div><br>"
      ],
      "text/plain": [
       "<IPython.core.display.HTML object>"
      ]
     },
     "metadata": {},
     "output_type": "display_data"
    }
   ],
   "source": [
    "x = Text([\n",
    "    \"What a great movie! if you have no taste.\",\n",
    "    \"it was a fantastic performance!\",\n",
    "    \"best film ever\",\n",
    "    \"such a great show!\",\n",
    "    \"it was a horrible movie\",\n",
    "    \"i've never watched something as bad\"\n",
    "])\n",
    "explainer = ShapText(model=model)\n",
    "explanations = explainer.explain(x)\n",
    "explanations.ipython_plot()"
   ]
  }
 ],
 "metadata": {
  "kernelspec": {
   "display_name": "Python 3",
   "language": "python",
   "name": "python3"
  },
  "language_info": {
   "codemirror_mode": {
    "name": "ipython",
    "version": 3
   },
   "file_extension": ".py",
   "mimetype": "text/x-python",
   "name": "python",
   "nbconvert_exporter": "python",
   "pygments_lexer": "ipython3",
   "version": "3.7.5"
  }
 },
 "nbformat": 4,
 "nbformat_minor": 2
}
