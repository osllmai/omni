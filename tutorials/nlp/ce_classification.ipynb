{
 "cells": [
  {
   "cell_type": "markdown",
   "metadata": {},
   "source": [
    "### Counterfactual explanation for text classification"
   ]
  },
  {
   "cell_type": "markdown",
   "metadata": {},
   "source": [
    "An example of counterfactual explanation on sentiment analysis. The method implemented in the library is based on the Polyjuice model developed by Wu et al. Please cite the work: https://github.com/tongshuangwu/polyjuice if using this explainer."
   ]
  },
  {
   "cell_type": "code",
   "execution_count": 1,
   "metadata": {},
   "outputs": [],
   "source": [
    "import sys\n",
    "import os\n",
    "\n",
    "module_path = os.path.abspath('E:/Codes/OmniXAI/')\n",
    "if module_path not in sys.path:\n",
    "    sys.path.append(module_path)\n",
    "\n",
    "# For Jupyter notebooks or interactive environments where __file__ is not defined\n",
    "try:\n",
    "    # Try to use __file__ if available\n",
    "    directory = os.path.dirname(os.path.abspath(__file__))\n",
    "except NameError:\n",
    "    # If __file__ is not defined (e.g., in Jupyter), use the current working directory\n",
    "    directory = os.path.abspath('')\n",
    "    \n",
    "sys.path.append(os.path.dirname(directory))"
   ]
  },
  {
   "cell_type": "code",
   "execution_count": 2,
   "metadata": {},
   "outputs": [],
   "source": [
    "# This default renderer is used for sphinx docs only. Please delete this cell in IPython.\n",
    "import plotly.io as pio\n",
    "pio.renderers.default = \"png\""
   ]
  },
  {
   "cell_type": "code",
   "execution_count": 3,
   "metadata": {},
   "outputs": [],
   "source": [
    "import transformers\n",
    "import numpy as np\n",
    "from omnixai.data.text import Text\n",
    "from omnixai.explainers.nlp.counterfactual.polyjuice import Polyjuice"
   ]
  },
  {
   "cell_type": "code",
   "execution_count": 5,
   "metadata": {},
   "outputs": [
    {
     "name": "stderr",
     "output_type": "stream",
     "text": [
      "Device set to use cpu\n",
      "`return_all_scores` is now deprecated,  if want a similar functionality use `top_k=None` instead of `return_all_scores=True` or `top_k=1` instead of `return_all_scores=False`.\n"
     ]
    }
   ],
   "source": [
    "# A transformer model for sentiment analysis\n",
    "model = transformers.pipeline(\n",
    "    'sentiment-analysis',\n",
    "    model='distilbert-base-uncased-finetuned-sst-2-english',\n",
    "    return_all_scores=True\n",
    ")\n",
    "idx2label = {\"NEGATIVE\": 0, \"POSITIVE\": 1}"
   ]
  },
  {
   "cell_type": "code",
   "execution_count": 6,
   "metadata": {},
   "outputs": [],
   "source": [
    "# Build the prediction function, e.g., the outputs of the prediction function are the class probabilities.\n",
    "def _predict(x):\n",
    "    scores = []\n",
    "    predictions = model(x.values)\n",
    "    for pred in predictions:\n",
    "        score = [0.0, 0.0]\n",
    "        for d in pred:\n",
    "            if d['label'] == 'NEGATIVE':\n",
    "                score[0] = d['score']\n",
    "            else:\n",
    "                score[1] = d['score']\n",
    "        scores.append(score)\n",
    "    return np.array(scores)"
   ]
  },
  {
   "cell_type": "code",
   "execution_count": 9,
   "metadata": {},
   "outputs": [
    {
     "ename": "ModuleNotFoundError",
     "evalue": "No module named 'polyjuice_nlp'",
     "output_type": "error",
     "traceback": [
      "\u001b[31m---------------------------------------------------------------------------\u001b[39m",
      "\u001b[31mModuleNotFoundError\u001b[39m                       Traceback (most recent call last)",
      "\u001b[36mCell\u001b[39m\u001b[36m \u001b[39m\u001b[32mIn[9]\u001b[39m\u001b[32m, line 2\u001b[39m\n\u001b[32m      1\u001b[39m \u001b[38;5;66;03m# Initialize the counterfactual explainer based on Polyjuice\u001b[39;00m\n\u001b[32m----> \u001b[39m\u001b[32m2\u001b[39m explainer = \u001b[43mPolyjuice\u001b[49m\u001b[43m(\u001b[49m\u001b[43mpredict_function\u001b[49m\u001b[43m=\u001b[49m\u001b[43m_predict\u001b[49m\u001b[43m)\u001b[49m\n",
      "\u001b[36mFile \u001b[39m\u001b[32mE:\\Codes\\OmniXAI\\omnixai\\explainers\\nlp\\counterfactual\\polyjuice.py:49\u001b[39m, in \u001b[36mPolyjuice.__init__\u001b[39m\u001b[34m(self, predict_function, mode, **kwargs)\u001b[39m\n\u001b[32m     46\u001b[39m \u001b[38;5;28mself\u001b[39m.mode = mode\n\u001b[32m     47\u001b[39m \u001b[38;5;28mself\u001b[39m.predict_function = predict_function\n\u001b[32m---> \u001b[39m\u001b[32m49\u001b[39m \u001b[38;5;28;01mfrom\u001b[39;00m\u001b[38;5;250m \u001b[39m\u001b[34;01mpolyjuice_nlp\u001b[39;00m\u001b[38;5;250m \u001b[39m\u001b[38;5;28;01mimport\u001b[39;00m Polyjuice\n\u001b[32m     51\u001b[39m \u001b[38;5;28mself\u001b[39m.explainer = Polyjuice(\n\u001b[32m     52\u001b[39m     model_path=kwargs.get(\u001b[33m\"\u001b[39m\u001b[33mmodel_path\u001b[39m\u001b[33m\"\u001b[39m, \u001b[33m\"\u001b[39m\u001b[33muw-hai/polyjuice\u001b[39m\u001b[33m\"\u001b[39m),\n\u001b[32m     53\u001b[39m     is_cuda=kwargs.get(\u001b[33m\"\u001b[39m\u001b[33mcuda\u001b[39m\u001b[33m\"\u001b[39m, \u001b[38;5;28;01mTrue\u001b[39;00m),\n\u001b[32m     54\u001b[39m )\n",
      "\u001b[31mModuleNotFoundError\u001b[39m: No module named 'polyjuice_nlp'"
     ]
    }
   ],
   "source": [
    "# Initialize the counterfactual explainer based on Polyjuice\n",
    "explainer = Polyjuice(predict_function=_predict)"
   ]
  },
  {
   "cell_type": "code",
   "execution_count": 8,
   "metadata": {},
   "outputs": [
    {
     "ename": "NameError",
     "evalue": "name 'explainer' is not defined",
     "output_type": "error",
     "traceback": [
      "\u001b[31m---------------------------------------------------------------------------\u001b[39m",
      "\u001b[31mNameError\u001b[39m                                 Traceback (most recent call last)",
      "\u001b[36mCell\u001b[39m\u001b[36m \u001b[39m\u001b[32mIn[8]\u001b[39m\u001b[32m, line 9\u001b[39m\n\u001b[32m      1\u001b[39m x = Text([\n\u001b[32m      2\u001b[39m     \u001b[33m\"\u001b[39m\u001b[33mWhat a great movie! if you have no taste.\u001b[39m\u001b[33m\"\u001b[39m,\n\u001b[32m      3\u001b[39m     \u001b[33m\"\u001b[39m\u001b[33mit was a fantastic performance!\u001b[39m\u001b[33m\"\u001b[39m,\n\u001b[32m   (...)\u001b[39m\u001b[32m      7\u001b[39m     \u001b[33m\"\u001b[39m\u001b[33mi\u001b[39m\u001b[33m'\u001b[39m\u001b[33mve never watched something as bad\u001b[39m\u001b[33m\"\u001b[39m\n\u001b[32m      8\u001b[39m ])\n\u001b[32m----> \u001b[39m\u001b[32m9\u001b[39m explanations = \u001b[43mexplainer\u001b[49m.explain(x)\n\u001b[32m     10\u001b[39m explanations.ipython_plot()\n",
      "\u001b[31mNameError\u001b[39m: name 'explainer' is not defined"
     ]
    }
   ],
   "source": [
    "x = Text([\n",
    "    \"What a great movie! if you have no taste.\",\n",
    "    \"it was a fantastic performance!\",\n",
    "    \"best film ever\",\n",
    "    \"such a great show!\",\n",
    "    \"it was a horrible movie\",\n",
    "    \"i've never watched something as bad\"\n",
    "])\n",
    "explanations = explainer.explain(x)\n",
    "explanations.ipython_plot()"
   ]
  },
  {
   "cell_type": "code",
   "execution_count": null,
   "metadata": {},
   "outputs": [],
   "source": []
  }
 ],
 "metadata": {
  "kernelspec": {
   "display_name": "venv",
   "language": "python",
   "name": "python3"
  },
  "language_info": {
   "codemirror_mode": {
    "name": "ipython",
    "version": 3
   },
   "file_extension": ".py",
   "mimetype": "text/x-python",
   "name": "python",
   "nbconvert_exporter": "python",
   "pygments_lexer": "ipython3",
   "version": "3.11.9"
  }
 },
 "nbformat": 4,
 "nbformat_minor": 2
}
