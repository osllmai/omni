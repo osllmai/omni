{
 "cells": [
  {
   "cell_type": "markdown",
   "metadata": {},
   "source": [
    "### Counterfactual explanation on time series anomaly detection"
   ]
  },
  {
   "cell_type": "markdown",
   "metadata": {},
   "source": [
    "This is an example of our optimization-based counterfactual explainer `MACEExplainer` for time series data. This explainer only supports time series anomaly detection."
   ]
  },
  {
   "cell_type": "code",
   "execution_count": 1,
   "metadata": {},
   "outputs": [],
   "source": [
    "import sys\n",
    "import os\n",
    "\n",
    "module_path = os.path.abspath('E:/Codes/OmniXAI/')\n",
    "if module_path not in sys.path:\n",
    "    sys.path.append(module_path)\n",
    "\n",
    "# For Jupyter notebooks or interactive environments where __file__ is not defined\n",
    "try:\n",
    "    # Try to use __file__ if available\n",
    "    directory = os.path.dirname(os.path.abspath(__file__))\n",
    "except NameError:\n",
    "    # If __file__ is not defined (e.g., in Jupyter), use the current working directory\n",
    "    directory = os.path.abspath('')\n",
    "    \n",
    "sys.path.append(os.path.dirname(directory))"
   ]
  },
  {
   "cell_type": "code",
   "execution_count": 2,
   "metadata": {},
   "outputs": [],
   "source": [
    "# This default renderer is used for sphinx docs only. Please delete this cell in IPython.\n",
    "import plotly.io as pio\n",
    "pio.renderers.default = \"png\""
   ]
  },
  {
   "cell_type": "code",
   "execution_count": 3,
   "metadata": {},
   "outputs": [],
   "source": [
    "import os\n",
    "import numpy as np\n",
    "import pandas as pd\n",
    "from omnixai.data.timeseries import Timeseries\n",
    "from omnixai.explainers.timeseries import MACEExplainer"
   ]
  },
  {
   "cell_type": "markdown",
   "metadata": {},
   "source": [
    "The time series data used here is a sythentic univariate time series dataset. We recommend using `Timeseries` to represent a time series dataset. `Timeseries` contains one univariate/multivariate time series, which can be constructed from a pandas dataframe (the index in the dataframe indicates the timestamps and the columns are the variables)."
   ]
  },
  {
   "cell_type": "code",
   "execution_count": 4,
   "metadata": {},
   "outputs": [
    {
     "name": "stdout",
     "output_type": "stream",
     "text": [
      "                       values\n",
      "timestamp                    \n",
      "1970-01-01 00:00:00  1.928031\n",
      "1970-01-01 00:05:00 -1.156620\n",
      "1970-01-01 00:10:00 -0.390650\n",
      "1970-01-01 00:15:00  0.400804\n",
      "1970-01-01 00:20:00 -0.874490\n",
      "...                       ...\n",
      "1970-02-04 16:55:00  0.362724\n",
      "1970-02-04 17:00:00  2.657373\n",
      "1970-02-04 17:05:00  1.472341\n",
      "1970-02-04 17:10:00  1.033154\n",
      "1970-02-04 17:15:00  2.950466\n",
      "\n",
      "[10000 rows x 1 columns]\n"
     ]
    }
   ],
   "source": [
    "# Load the time series dataset\n",
    "df = pd.read_csv(os.path.join(\"../data\", \"timeseries.csv\"))\n",
    "df[\"timestamp\"] = pd.to_datetime(df[\"timestamp\"], unit='s')\n",
    "df = df.rename(columns={\"horizontal\": \"values\"})\n",
    "df = df.set_index(\"timestamp\")\n",
    "df = df.drop(columns=[\"anomaly\"])\n",
    "print(df)"
   ]
  },
  {
   "cell_type": "code",
   "execution_count": 5,
   "metadata": {},
   "outputs": [],
   "source": [
    "# Split the dataset into training and test splits\n",
    "train_df = df.iloc[:9150]\n",
    "test_df = df.iloc[9150:9300]\n",
    "# A simple threshold for detecting anomaly data points\n",
    "threshold = np.percentile(train_df[\"values\"].values, 90)"
   ]
  },
  {
   "cell_type": "markdown",
   "metadata": {},
   "source": [
    "The outputs of the detector are anomaly scores instead of anomaly labels (0 or 1). A data point is more anomalous if it has a higher anomaly score. "
   ]
  },
  {
   "cell_type": "code",
   "execution_count": 6,
   "metadata": {},
   "outputs": [],
   "source": [
    "# A simple detector for determining whether a window of time series is anomalous\n",
    "def detector(ts: Timeseries):\n",
    "    anomaly_scores = np.sum((ts.values > threshold).astype(int))\n",
    "    return anomaly_scores / ts.shape[0]"
   ]
  },
  {
   "cell_type": "markdown",
   "metadata": {},
   "source": [
    "To initialize a MACEExplainer explainer, we need to set:\n",
    "  \n",
    "  - `training_data`: The data used to initialize a MACEExplainer explainer. ``training_data`` can be the training dataset for training the machine learning model.\n",
    "  - `predict_function`: The prediction function corresponding to the model to explain. The input of ``predict_function`` should be an `Timeseries` instance. The outputs of ``predict_function`` are anomaly scores (higher scores imply more anomalous) for anomaly detection.\n",
    "  - `threshold`: The threshold to determine whether an instance is anomalous, e.g., anomaly score > threshold."
   ]
  },
  {
   "cell_type": "code",
   "execution_count": 7,
   "metadata": {},
   "outputs": [],
   "source": [
    "explainer = MACEExplainer(\n",
    "    training_data=Timeseries.from_pd(train_df),\n",
    "    predict_function=detector,\n",
    "    mode=\"anomaly_detection\",\n",
    "    threshold=0.001\n",
    ")\n",
    "test_x = Timeseries.from_pd(test_df)"
   ]
  },
  {
   "cell_type": "code",
   "execution_count": 8,
   "metadata": {},
   "outputs": [
    {
     "name": "stdout",
     "output_type": "stream",
     "text": [
      "MACE Debug: Original score=0.2800, Threshold=0.0010\n",
      "MACE Debug: Label=1, less_than_threshold=True\n",
      "MACE Debug: Target=reduce score below threshold\n",
      " |███████████████████████████████████████-| 99.5% MACE Debug: Trying 150 optimal modifications\n",
      "MACE Debug: Original reward=-0.2790\n",
      "MACE Debug: Modification 1, column=19, reward=-0.2723\n",
      "MACE Debug: Modification 2, column=22, reward=-0.2723\n",
      "MACE Debug: Modification 3, column=23, reward=-0.2723\n",
      "MACE Debug: Modification 4, column=24, reward=-0.2723\n",
      "MACE Debug: Modification 5, column=25, reward=-0.2723\n",
      "MACE Debug: Individual modifications failed, trying cumulative...\n",
      "MACE Debug: Cumulative 1, reward=-0.2723\n",
      "MACE Debug: Cumulative 2, reward=-0.2657\n",
      "MACE Debug: Cumulative 3, reward=-0.2590\n",
      "MACE Debug: Cumulative 4, reward=-0.2523\n",
      "MACE Debug: Cumulative 5, reward=-0.2457\n",
      "MACE Debug: Found counterfactual with cumulative modification 42!\n"
     ]
    },
    {
     "data": {
      "image/png": "[encoded data removed]"
     },
     "metadata": {},
     "output_type": "display_data"
    }
   ],
   "source": [
    "explanations = explainer.explain(test_x)\n",
    "explanations.ipython_plot()"
   ]
  }
 ],
 "metadata": {
  "kernelspec": {
   "display_name": "venv",
   "language": "python",
   "name": "python3"
  },
  "language_info": {
   "codemirror_mode": {
    "name": "ipython",
    "version": 3
   },
   "file_extension": ".py",
   "mimetype": "text/x-python",
   "name": "python",
   "nbconvert_exporter": "python",
   "pygments_lexer": "ipython3",
   "version": "3.11.9"
  }
 },
 "nbformat": 4,
 "nbformat_minor": 2
}
